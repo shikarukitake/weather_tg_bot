{
  "nbformat": 4,
  "nbformat_minor": 0,
  "metadata": {
    "colab": {
      "name": "telegrambot.ipynb",
      "provenance": [],
      "authorship_tag": "ABX9TyMQubfXgi+h/QpUvQJqerXE",
      "include_colab_link": true
    },
    "kernelspec": {
      "name": "python3",
      "display_name": "Python 3"
    }
  },
  "cells": [
    {
      "cell_type": "markdown",
      "metadata": {
        "id": "view-in-github",
        "colab_type": "text"
      },
      "source": [
        "<a href=\"https://colab.research.google.com/github/shikarukitake/weather_tg_bot/blob/master/telegrambot.ipynb\" target=\"_parent\"><img src=\"https://colab.research.google.com/assets/colab-badge.svg\" alt=\"Open In Colab\"/></a>"
      ]
    },
    {
      "cell_type": "code",
      "metadata": {
        "id": "hasYzdUtOOTi",
        "colab_type": "code",
        "outputId": "bbbf9f7e-e9fe-44d3-97f1-9ab0e240e1e2",
        "colab": {
          "base_uri": "https://localhost:8080/",
          "height": 141
        }
      },
      "source": [
        "!pip install pytelegrambotapi"
      ],
      "execution_count": 5,
      "outputs": [
        {
          "output_type": "stream",
          "text": [
            "Requirement already satisfied: pytelegrambotapi in /usr/local/lib/python3.6/dist-packages (3.6.7)\n",
            "Requirement already satisfied: requests in /usr/local/lib/python3.6/dist-packages (from pytelegrambotapi) (2.21.0)\n",
            "Requirement already satisfied: six in /usr/local/lib/python3.6/dist-packages (from pytelegrambotapi) (1.14.0)\n",
            "Requirement already satisfied: certifi>=2017.4.17 in /usr/local/lib/python3.6/dist-packages (from requests->pytelegrambotapi) (2020.4.5.1)\n",
            "Requirement already satisfied: urllib3<1.25,>=1.21.1 in /usr/local/lib/python3.6/dist-packages (from requests->pytelegrambotapi) (1.24.3)\n",
            "Requirement already satisfied: chardet<3.1.0,>=3.0.2 in /usr/local/lib/python3.6/dist-packages (from requests->pytelegrambotapi) (3.0.4)\n",
            "Requirement already satisfied: idna<2.9,>=2.5 in /usr/local/lib/python3.6/dist-packages (from requests->pytelegrambotapi) (2.8)\n"
          ],
          "name": "stdout"
        }
      ]
    },
    {
      "cell_type": "code",
      "metadata": {
        "id": "46m2URzKPuDn",
        "colab_type": "code",
        "colab": {}
      },
      "source": [
        "import telebot\n",
        "\n",
        "def weather_get_byAPI(city, country=None):\n",
        "    import requests\n",
        "\n",
        "    # API KEY\n",
        "    API_key = \"9c82f8d680922dfbfeeb2602c42d70bc\"\n",
        "    base_url = \"http://api.openweathermap.org/data/2.5/weather?\"\n",
        "\n",
        "    # Creating city name for request\n",
        "    if country == None:\n",
        "        city_name = city\n",
        "        Final_url = base_url + \"appid=\" + API_key + \"&q=\" + city_name + '&units=metric'\n",
        "    else:\n",
        "        city_name = city + ',' + country\n",
        "        Final_url = base_url + \"appid=\" + API_key + \"&q=\" + city_name + '&units=metric'\n",
        "\n",
        "    # Request\n",
        "    weather_data = requests.get(Final_url).json()\n",
        "\n",
        "    # Obtaining request\n",
        "    icon_url = \"http://openweathermap.org/img/w/\" + weather_data['weather'][0]['icon'] + \".png\"\n",
        "    weather_string = f\"Temperature is {weather_data['main']['temp']}\"\n",
        "    weather_string += f\"\\nMax temperature is {weather_data['main']['temp_max']}\"\n",
        "    weather_string += f\"\\nMin temperature is {weather_data['main']['temp_min']}\"\n",
        "    weather_string += f\"\\nFeels like {weather_data['main']['feels_like']}\"\n",
        "    weather_string += f\"\\nWeather is {weather_data['weather'][0]['description']}\"\n",
        "    return weather_string\n",
        "\n",
        "# Database))00\n",
        "user_dict = {} \n",
        "current_user_dict = {}\n",
        "exceptions = []"
      ],
      "execution_count": 0,
      "outputs": []
    },
    {
      "cell_type": "code",
      "metadata": {
        "id": "Cnw6yjjijB-Y",
        "colab_type": "code",
        "colab": {}
      },
      "source": [
        "token = input(\"TelegramBotToken\")"
      ],
      "execution_count": 0,
      "outputs": []
    },
    {
      "cell_type": "code",
      "metadata": {
        "id": "TAzoIoAvP6EK",
        "colab_type": "code",
        "colab": {}
      },
      "source": [
        "bot = telebot.TeleBot(token)\n",
        "\n",
        "keyboard1 = telebot.types.ReplyKeyboardMarkup()\n",
        "keyboard1.row('Yes', 'No!')\n",
        "markup = telebot.types.ForceReply(selective=False)\n",
        "markupHide = telebot.types.ReplyKeyboardRemove(selective=False)\n",
        "\n",
        "# Welcome\n",
        "@bot.message_handler(commands=['start'])\n",
        "def send_welcome(message):\n",
        "    try:\n",
        "        msg = bot.reply_to(message, 'Input city name')\n",
        "        bot.register_next_step_handler(msg, user_reg)\n",
        "    except Exception as e:\n",
        "        bot.reply_to(message, 'ooopps')\n",
        "\n",
        "@bot.message_handler(commands=['info'])\n",
        "def send_info(message):\n",
        "    try:\n",
        "        chat_id = message.chat.id\n",
        "        city_string = f\"Your city is {user_dict[chat_id]}\"\n",
        "        bot.reply_to(message, city_string)\n",
        "    except Exception as e:\n",
        "        bot.reply_to(message, 'ooopps')\n",
        "\n",
        "# Get weather of current city\n",
        "@bot.message_handler(commands=['weather'])\n",
        "def current_weather(message):\n",
        "    try:\n",
        "        chat_id = message.chat.id\n",
        "        city = user_dict[chat_id]\n",
        "        weather(chat_id, city)\n",
        "    except Exception as e:\n",
        "        bot.reply_to(message, \"Some error\")\n",
        "\n",
        "# Get weather of some city\n",
        "@bot.message_handler(commands=['anotherweather'])\n",
        "def another_weather(message):\n",
        "    try:\n",
        "        chat_id = message.chat.id\n",
        "        msg = bot.send_message(chat_id, 'Input city name', reply_markup=markup)\n",
        "        bot.register_next_step_handler(msg, another_weather_country)\n",
        "    except Exception as e:\n",
        "        bot.reply_to(message, \"Some error /anotherweather\")\n",
        "\n",
        "# Selecting manage with country or not\n",
        "def another_weather_country(message):\n",
        "    try:\n",
        "        chat_id = message.chat.id\n",
        "        current_user_dict[chat_id] = message.text\n",
        "        msg = bot.send_message(chat_id, 'Do u want to manage country?', reply_markup=keyboard1)\n",
        "        bot.register_next_step_handler(msg, another_weather_next)\n",
        "    except Exception as e:\n",
        "        bot.reply_to(message, \"Some error country manage\")\n",
        "\n",
        "# Manage county\n",
        "def another_weather_next(message):\n",
        "    try:\n",
        "        chat_id = message.chat.id\n",
        "        if message.text == 'No!':\n",
        "            weather(chat_id, current_user_dict[chat_id])\n",
        "        elif message.text == 'Yes':\n",
        "            help_string = 'Input country name in two letter format (ISO 3166)\\nFor example: Russian Federation is RU'\n",
        "            msg = bot.send_message(chat_id, help_string, markup=markupHide)\n",
        "            bot.register_next_step_handler(msg, weather_with_country)\n",
        "    except Exception as e:\n",
        "        bot.reply_to(message, \"Some error\")\n",
        "\n",
        "def weather_with_country(message):\n",
        "    try:\n",
        "        chat_id = message.chat.id\n",
        "        country = message.text\n",
        "        weather(chat_id, current_user_dict[chat_id], country)\n",
        "    except Exception as e:\n",
        "        bot.reply_to(message, \"Some error\")   \n",
        "   \n",
        "# Get weather of city\n",
        "def weather(chat_id, city, country=None):\n",
        "    try:\n",
        "        weather = weather_get_byAPI(city, country)\n",
        "        bot.send_message(chat_id, weather, reply_markup=markupHide)\n",
        "    except Exception as e:\n",
        "        bot.send_message(chat_id, \"I can't get weather of this city\")\n",
        "\n",
        "# Setting city of user\n",
        "def user_reg(message):\n",
        "    try:\n",
        "        chat_id = message.chat.id\n",
        "        user_dict[chat_id] = message.text\n",
        "        msg = bot.reply_to(message, 'Do u want to know weather in ' + user_dict[chat_id] + '?', reply_markup = keyboard1)\n",
        "        bot.register_next_step_handler(msg, yes_or_no)\n",
        "    except Exception as e:\n",
        "        bot.reply_to(message, 'ooopps')\n",
        "\n",
        "def yes_or_no(message):\n",
        "    try:\n",
        "        chat_id = message.chat.id\n",
        "        if message.text == 'Yes':\n",
        "            current_weather(message)\n",
        "        else:\n",
        "            bot.send_message(chat_id, 'Goodbye!', reply_markup=markupHide)\n",
        "    except Exception as e:\n",
        "        bot.reply_to(message, 'ooopps')\n",
        "\n",
        "@bot.message_handler(func=lambda message: True)\n",
        "def echo_all(message):\n",
        "    try:\n",
        "        chat_id = message.chat.id\n",
        "        if chat_id in user_dict:\n",
        "            help_string = '/weather - to get weather of your city\\n'\n",
        "            help_string += '/anotherweather - to get weather of some city\\n'\n",
        "            help_string += '/start - to change your city\\n'\n",
        "            help_string += '/info - to get your city'\n",
        "            bot.reply_to(message, help_string)\n",
        "        else:\n",
        "            bot.reply_to(message, '/start')\n",
        "    except:\n",
        "        bot.reply_to(message, 'ooopps')\n",
        "\n",
        "bot.enable_save_next_step_handlers(delay=2)\n",
        "\n",
        "bot.load_next_step_handlers()\n",
        "\n",
        "bot.polling()"
      ],
      "execution_count": 0,
      "outputs": []
    },
    {
      "cell_type": "code",
      "metadata": {
        "id": "Y1guIUrdgafK",
        "colab_type": "code",
        "colab": {}
      },
      "source": [
        ""
      ],
      "execution_count": 0,
      "outputs": []
    }
  ]
}
